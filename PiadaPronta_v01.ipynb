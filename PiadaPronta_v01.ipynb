{
  "nbformat": 4,
  "nbformat_minor": 0,
  "metadata": {
    "colab": {
      "provenance": []
    },
    "kernelspec": {
      "name": "python3",
      "display_name": "Python 3"
    },
    "language_info": {
      "name": "python"
    }
  },
  "cells": [
    {
      "cell_type": "code",
      "source": [
        "# @title Célula 1: Instalação e Imports\n",
        "!pip install -q google-generativeai feedparser\n",
        "\n",
        "# @title Imports\n",
        "import google.generativeai as genai\n",
        "import os\n",
        "import feedparser # Importe feedparser"
      ],
      "metadata": {
        "id": "UCCbECexLk_h"
      },
      "execution_count": 18,
      "outputs": []
    },
    {
      "cell_type": "code",
      "source": [
        "# @title Célula 2: Configura a API Key do Google Gemini\n",
        "\n",
        "from google.colab import userdata\n",
        "\n",
        "try:\n",
        "  GOOGLE_API_KEY = userdata.get('GOOGLE_API_KEY')\n",
        "  if not GOOGLE_API_KEY:\n",
        "      raise ValueError(\"GOOGLE_API_KEY não encontrada nos segredos do Colab.\")\n",
        "  genai.configure(api_key=GOOGLE_API_KEY)\n",
        "  print(\"API Key configurada com sucesso.\")\n",
        "except Exception as e:\n",
        "  print(f\"Erro ao configurar a API Key: {e}\")\n",
        "  print(\"Certifique-se de ter adicionado sua GOOGLE_API_KEY nos segredos do Colab.\")\n",
        "  GOOGLE_API_KEY = None # Garante que a chave não está definida se houver erro"
      ],
      "metadata": {
        "id": "NfCqHo1tLk8P",
        "colab": {
          "base_uri": "https://localhost:8080/"
        },
        "outputId": "79f5a506-2a01-480b-e3b6-833bfa17c4f4"
      },
      "execution_count": 19,
      "outputs": [
        {
          "output_type": "stream",
          "name": "stdout",
          "text": [
            "API Key configurada com sucesso.\n"
          ]
        }
      ]
    },
    {
      "cell_type": "code",
      "source": [
        "# @title Célula 3: Configura o cliente da SDK do Gemini\n",
        "\n",
        "if GOOGLE_API_KEY:\n",
        "    # Escolha o modelo (experimente diferentes)\n",
        "    model_name = 'gemini-2.0-flash' # Ou 'gemini-1.0-pro'\n",
        "\n",
        "    generation_config = {\n",
        "      \"temperature\": 0.9, # Experimente valores para criatividade\n",
        "      \"top_p\": 0.95,\n",
        "      \"top_k\": 60,\n",
        "      \"max_output_tokens\": 256, # Limite o tamanho da resposta\n",
        "    }\n",
        "\n",
        "    safety_settings = [\n",
        "      {\"category\": \"HARM_CATEGORY_HARASSMENT\", \"threshold\": \"BLOCK_MEDIUM_AND_ABOVE\"},\n",
        "      {\"category\": \"HARM_CATEGORY_HATE_SPEECH\", \"threshold\": \"BLOCK_MEDIUM_AND_ABOVE\"},\n",
        "      {\"category\": \"HARM_CATEGORY_SEXUALLY_EXPLICIT\", \"threshold\": \"BLOCK_MEDIUM_AND_ABOVE\"},\n",
        "      {\"category\": \"HARM_CATEGORY_DANGEROUS_CONTENT\", \"threshold\": \"BLOCK_MEDIUM_AND_ABOVE\"},\n",
        "    ]\n",
        "\n",
        "    model = genai.GenerativeModel(model_name=model_name,\n",
        "                                  generation_config=generation_config,\n",
        "                                  safety_settings=safety_settings)\n",
        "\n",
        "    print(f\"Modelo {model_name} configurado com sucesso.\")\n",
        "else:\n",
        "    model = None\n",
        "    print(\"Modelo não configurado devido à falta da API Key.\")"
      ],
      "metadata": {
        "id": "bV4w0H5TLk5g",
        "colab": {
          "base_uri": "https://localhost:8080/"
        },
        "outputId": "2d40f88f-6778-4d51-dc40-67b33a6f7741"
      },
      "execution_count": 20,
      "outputs": [
        {
          "output_type": "stream",
          "name": "stdout",
          "text": [
            "Modelo gemini-2.0-flash configurado com sucesso.\n"
          ]
        }
      ]
    },
    {
      "cell_type": "code",
      "source": [
        "# @title Célula 4: Módulo de Busca de Notícias (Usando RSS da Agência Brasil)\n",
        "\n",
        "def buscar_noticias_economicas_rss(feed_url=\"https://agenciabrasil.ebc.com.br/rss/economia/feed.xml\", max_noticias=3):\n",
        "    \"\"\"\n",
        "    Busca notícias econômicas recentes de um feed RSS.\n",
        "\n",
        "    Args:\n",
        "        feed_url: URL do feed RSS da Agência Brasil - Economia.\n",
        "        max_noticias: Número máximo de notícias a serem retornadas.\n",
        "\n",
        "    Returns:\n",
        "        Uma lista de strings, onde cada string é o conteúdo (Título + Resumo)\n",
        "        de uma notícia, ou uma lista vazia em caso de erro.\n",
        "    \"\"\"\n",
        "    print(f\"Buscando notícias do feed RSS: {feed_url}\")\n",
        "    noticias_processadas = []\n",
        "\n",
        "    try:\n",
        "        # Usa feedparser para parsear o feed diretamente da URL\n",
        "        feed = feedparser.parse(feed_url)\n",
        "\n",
        "        # Verifica se houve algum erro ao parsear o feed\n",
        "        if feed.bozo:\n",
        "            print(f\"Atenção: Ocorreu um erro ao parsear o feed RSS ({feed.bozo_exception}). Pode estar incompleto ou mal formatado.\")\n",
        "            # Você pode decidir retornar aqui ou tentar processar o que foi lido\n",
        "\n",
        "        # Verifica se o feed contém entradas (notícias)\n",
        "        if not feed.entries:\n",
        "            print(\"Nenhuma entrada encontrada no feed RSS.\")\n",
        "            return []\n",
        "\n",
        "        print(f\"Encontradas {len(feed.entries)} entradas no feed. Processando as primeiras {max_noticias}...\")\n",
        "\n",
        "        # Itera sobre as entradas (notícias) do feed\n",
        "        for i, entry in enumerate(feed.entries[:max_noticias]):\n",
        "            # Extrai Título, Link e Resumo/Descrição de cada entrada\n",
        "            # feedparser tenta normalizar 'summary' e 'description' para 'summary'\n",
        "            titulo = entry.get('title', 'Sem Título')\n",
        "            link = entry.get('link', 'Sem Link')\n",
        "            resumo = entry.get('summary', entry.get('description', 'Sem Resumo')) # Tenta summary, depois description\n",
        "\n",
        "            # Cria uma string combinada para passar para o módulo de humor\n",
        "            # Incluir o título e o resumo é um bom ponto de partida.\n",
        "            # O link pode ser útil para referência no output, mas não é essencial para a piada.\n",
        "            texto_noticia_combinado = f\"Título: {titulo}\\nResumo: {resumo}\"\n",
        "\n",
        "            noticias_processadas.append(texto_noticia_combinado)\n",
        "            print(f\" - Notícia {i+1}: '{titulo[:50]}...' processada.\") # Print para feedback\n",
        "\n",
        "        print(f\"Processamento do feed RSS concluído. {len(noticias_processadas)} notícias prontas para gerar humor.\")\n",
        "        return noticias_processadas\n",
        "\n",
        "    except Exception as e:\n",
        "        print(f\"Ocorreu um erro ao buscar ou processar o feed RSS: {e}\")\n",
        "        return [] # Retorna lista vazia em caso de erro grave\n",
        "\n",
        "\n",
        "# Exemplo de como você chamaria esta função na Célula 6:\n",
        "# lista_noticias = buscar_noticias_economicas_rss() # Usará a URL e max_noticias padrão\n",
        "# lista_noticias = buscar_noticias_economicas_rss(max_noticias=5) # Para buscar 5 notícias"
      ],
      "metadata": {
        "id": "HwVP7Xi34Zuw"
      },
      "execution_count": 21,
      "outputs": []
    },
    {
      "cell_type": "code",
      "source": [
        "# @title Célula 5: Módulo de Geração de Humor (Bissociação - o coração do programa!)\n",
        "def gerar_piada_bisociativa(model, noticia_texto):\n",
        "    \"\"\"\n",
        "    Gera uma piada sobre a notícia usando a teoria da bisociação de Koestler.\n",
        "\n",
        "    Args:\n",
        "        model: O objeto do modelo Gemini configurado.\n",
        "        noticia_texto: O texto da notícia econômica.\n",
        "\n",
        "    Returns:\n",
        "        Uma string contendo a piada gerada e (opcionalmente) uma explicação.\n",
        "    \"\"\"\n",
        "    if model is None:\n",
        "        return \"Modelo Gemini não disponível.\"\n",
        "\n",
        "    # --- PROMPT ENGINEERING (CORAÇÃO DO AGENTE) ---\n",
        "    prompt = f\"\"\"\n",
        "    Você é um agente criativo especializado em encontrar o humor em situações sérias, usando a teoria da bisociação de Arthur Koestler.\n",
        "    A bisociação é a colisão de duas ideias, contextos ou \"matrizes de pensamento\" habitualmente incompatíveis, que de repente se tornam consistentes de uma forma inesperada, gerando um \"choque\" que pode ser engraçado.\n",
        "\n",
        "    Sua tarefa é ler a seguinte notícia econômica e encontrar duas matrizes de pensamento que possam colidir de forma humorística, seguindo a ideia de bisociação de Koestler.\n",
        "\n",
        "    Notícia Econômica:\n",
        "    \"{noticia_texto}\"\n",
        "\n",
        "    Passos para gerar a piada:\n",
        "    1. Identifique a \"Matriz A\": O conceito central, evento ou jargão principal da notícia.\n",
        "    2. Pense em uma \"Matriz B\": Um contexto ou ideia completamente diferente e inusitado (ex: culinária, relacionamentos, contos de fadas, regras de jogos, situações do dia a dia) que tenha um ponto de contato *estrutural* ou *conceitual* abstrato com a Matriz A. Escolha um contraste forte.\n",
        "    3. Gere a \"Colisão/Piada\": Combine as Matrizes A e B de forma inesperada e engraçada, criando uma piada curta e direta.\n",
        "    4. Explique brevemente *quais* foram as Matrizes A e B que você usou e como a colisão delas cria o humor (a \"faísca bisociativa\") de acordo com Koestler.\n",
        "\n",
        "    Formato da saída:\n",
        "    Piada: [Sua piada aqui]\n",
        "    Análise Bisociativa: [Explicação baseada em Koestler aqui]\n",
        "\n",
        "    Gere apenas a piada e a análise opcional no formato especificado.\n",
        "    \"\"\"\n",
        "    # --- FIM PROMPT ENGINEERING ---\n",
        "\n",
        "    try:\n",
        "        print(f\"\\nProcessando notícia para gerar piada bisociativa...\\nNotícia: '{noticia_texto[:100]}...'\") # Print para debug\n",
        "        response = model.generate_content(prompt)\n",
        "\n",
        "        # Verificar se a resposta tem texto e tratar possíveis erros de segurança\n",
        "        if response.text:\n",
        "             # Aqui você pode querer parsing mais robusto se seguir o formato exato\n",
        "             # Por enquanto, apenas retorna o texto gerado\n",
        "             return response.text\n",
        "        elif response.prompt_feedback and response.prompt_feedback.block_reason:\n",
        "             return f\"Conteúdo bloqueado devido a configurações de segurança: {response.prompt_feedback.block_reason}\"\n",
        "        else:\n",
        "             return \"Resposta do modelo vazia ou sem texto.\"\n",
        "\n",
        "    except Exception as e:\n",
        "        return f\"Ocorreu um erro ao gerar o conteúdo: {e}\""
      ],
      "metadata": {
        "id": "yXaZd7iZ4ftw"
      },
      "execution_count": 22,
      "outputs": []
    },
    {
      "cell_type": "code",
      "source": [
        "#@title Célula 6: Orquestração do Agente e Execução\n",
        "\n",
        "if model: # Verifica se o modelo foi configurado corretamente na Célula 3\n",
        "    # Definir o tópico (não é mais usado pela função RSS, mas mantemos a variável se for útil para algo no futuro)\n",
        "    # Definir a quantidade de notícias a processar\n",
        "    quantidade_noticias = 3 # Exemplo: processar as 3 primeiras notícias do feed\n",
        "\n",
        "    # Passo 1: O Agente busca as notícias usando a função específica para RSS\n",
        "    # Chamando a função com o NOVO nome: buscar_noticias_economicas_rss\n",
        "    # Podemos usar os valores padrão definidos na Célula 4, ou especificar a quantidade\n",
        "    lista_noticias = buscar_noticias_economicas_rss(max_noticias=quantidade_noticias)\n",
        "\n",
        "\n",
        "    if lista_noticias:\n",
        "        print(\"\\n--- Piadas Geradas ---\")\n",
        "        # Passo 2: O Agente processa cada notícia para gerar humor\n",
        "        for i, noticia in enumerate(lista_noticias):\n",
        "            print(f\"\\nProcessando Notícia {i+1}/{len(lista_noticias)}:\")\n",
        "            # Certifique-se de que 'model' está sendo passado para a função gerar_piada_bisociativa\n",
        "            piada_e_analise = gerar_piada_bisociativa(model, noticia)\n",
        "            print(piada_e_analise)\n",
        "            print(\"-\" * 20) # Separador\n",
        "\n",
        "        print(\"\\n--- Fim da Geração ---\")\n",
        "    else:\n",
        "        print(\"\\nNenhuma notícia encontrada no feed RSS para processar.\")\n",
        "\n",
        "else:\n",
        "    print(\"\\nNão é possível executar a orquestração: Modelo Gemini não configurado (verifique a Célula 3 e a Célula 2 para a API Key).\")"
      ],
      "metadata": {
        "id": "xHSNlTd84heJ",
        "colab": {
          "base_uri": "https://localhost:8080/",
          "height": 905
        },
        "outputId": "c9b7d8b3-480f-4a1c-e750-ebcffa5e52bc"
      },
      "execution_count": 23,
      "outputs": [
        {
          "output_type": "stream",
          "name": "stdout",
          "text": [
            "Buscando notícias do feed RSS: https://agenciabrasil.ebc.com.br/rss/economia/feed.xml\n",
            "Encontradas 10 entradas no feed. Processando as primeiras 3...\n",
            " - Notícia 1: 'Redução no preço do diesel da Petrobras não chega ...' processada.\n",
            " - Notícia 2: 'Especialistas defendem diversificação nas parceria...' processada.\n",
            " - Notícia 3: 'Itaipu completa 51 anos com foco em inovação energ...' processada.\n",
            "Processamento do feed RSS concluído. 3 notícias prontas para gerar humor.\n",
            "\n",
            "--- Piadas Geradas ---\n",
            "\n",
            "Processando Notícia 1/3:\n",
            "\n",
            "Processando notícia para gerar piada bisociativa...\n",
            "Notícia: 'Título: Redução no preço do diesel da Petrobras não chega ao IPCA\n",
            "Resumo: <p><p style=\"text-align: c...'\n",
            "Piada: A Petrobras reduz o diesel, mas o IPCA mal sente. É como se a gente estivesse numa dieta de sorvete: a sorveteria baixa o preço, mas a balança insiste em dizer que nada mudou.\n",
            "\n",
            "Análise Bisociativa: A Matriz A é a situação econômica da redução do diesel não se refletindo no IPCA, um problema real e frustrante. A Matriz B é a situação cotidiana de uma dieta, onde a expectativa é de perda de peso, mas, mesmo com esforços, o resultado demora a aparecer. A colisão ocorre ao comparar a economia com a dieta, criando humor ao satirizar a ineficiência da medida econômica, como se a economia estivesse teimosamente \"engordando\" apesar dos esforços. A faísca bisociativa está na quebra da expectativa de que uma ação (redução do diesel/dieta) leve a um resultado imediato e visível (IPCA menor/perda de peso).\n",
            "\n",
            "--------------------\n",
            "\n",
            "Processando Notícia 2/3:\n",
            "\n",
            "Processando notícia para gerar piada bisociativa...\n",
            "Notícia: 'Título: Especialistas defendem diversificação nas parcerias comerciais\n",
            "Resumo: <p><p style=\"text-ali...'\n",
            "Piada: Especialistas defendem diversificação nas parcerias comerciais do Brasil, porque apostar todas as fichas na China é como ir a um rodízio só comendo rolinho primavera: uma hora você vai sentir falta de uma picanha e um pastel de Belém.\n",
            "\n",
            "Análise Bisociativa:\n",
            "Matriz A: A necessidade de diversificação nas parcerias comerciais do Brasil para não depender excessivamente da China.\n",
            "Matriz B: A experiência de ir a um rodízio, que oferece uma variedade de opções culinárias, e restringir-se a apenas um tipo de comida.\n",
            "\n",
            "A colisão humorística ocorre porque a situação econômica complexa (Matriz A) é comparada a uma situação cotidiana e banal (Matriz B). A graça está na inesperada analogia entre a estratégia comercial de um país e a escolha de comida em um restaurante. A \"faísca bisociativa\" acontece quando percebemos que, assim como limitar as opções em um rodízio é insatisfatório, depender exclusivamente de um parceiro comercial pode ser arriscado e limitar o potencial de crescimento e resiliência econômica.\n",
            "\n",
            "--------------------\n",
            "\n",
            "Processando Notícia 3/3:\n",
            "\n",
            "Processando notícia para gerar piada bisociativa...\n",
            "Notícia: 'Título: Itaipu completa 51 anos com foco em inovação energética\n",
            "Resumo: <p><p style=\"text-align: cen...'\n",
            "Piada: Itaipu faz 51 anos e está investindo pesado em inovação energética, tipo um botox para usina hidrelétrica. Quer continuar jovial, produzindo energia limpa, mas no fundo a gente sabe que no próximo vertedouro vai vazar um pouquinho.\n",
            "\n",
            "Análise Bisociativa:\n",
            "*   **Matriz A:** Itaipu, uma usina hidrelétrica \"idosa\" (51 anos) que investe em modernização e se preocupa com a imagem de sustentabilidade e inovação.\n",
            "*   **Matriz B:** A busca pela juventude e a negação do envelhecimento através de procedimentos estéticos, como o botox, que visam esconder os sinais da idade.\n",
            "\n",
            "A colisão acontece porque ambas as matrizes envolvem a tentativa de manter uma imagem ou funcionalidade idealizada, mesmo quando a realidade (envelhecimento da usina, vazamentos inevitáveis) sugere o contrário. O humor surge da comparação inusitada entre uma usina hidrelétrica e uma pessoa que busca rejuvenescer, explorando a futilidade de tentar esconder o inevitável. O \"vazamento\" é uma metáfora para os problemas que\n",
            "--------------------\n",
            "\n",
            "--- Fim da Geração ---\n"
          ]
        }
      ]
    }
  ]
}